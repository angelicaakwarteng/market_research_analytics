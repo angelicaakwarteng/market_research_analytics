{
 "cells": [
  {
   "cell_type": "code",
   "execution_count": null,
   "id": "c36eadd2",
   "metadata": {},
   "outputs": [],
   "source": [
    "#pip install pyarrow"
   ]
  },
  {
   "cell_type": "markdown",
   "id": "8a69dafd",
   "metadata": {},
   "source": [
    "## Business Problem\n",
    "\n",
    "A retail company wants to examine the success of promotional campaigns differs depending on the region where they are implemented. The marketing team shared data on all promotional outcomes across various regions. They want to assess the association between region and promotional type.\n",
    "\n",
    "- The marketing manager is particularly interested in what messaging style and time of day yield the highest conversions so shared additional data to aid with the analysis. The manager explained that this analysis is crucial for guiding future marketing strategies, ensuring that business messages reach potential customers when they're most likely to engage with their campaign hence must be addressed first.\n",
    "\n",
    "- After exploring the dataset, it was noticed that the dataset gave the outcomes of different messaging styles ('Casual' versus 'Formal') and times of day ('Morning' versus 'Evening') on conversion rates, which is a common scenario in marketing data analysis and the manager confirmed that too.\n",
    "\n",
    "As the data analyst on the team, how would you go about it?"
   ]
  },
  {
   "cell_type": "code",
   "execution_count": 1,
   "id": "426c6b09",
   "metadata": {},
   "outputs": [],
   "source": [
    "#import libraries\n",
    "import numpy as np\n",
    "import pandas as pd\n",
    "import matplotlib.pyplot as plt\n",
    "import seaborn as sns"
   ]
  },
  {
   "cell_type": "code",
   "execution_count": 2,
   "id": "7d8d9b51",
   "metadata": {},
   "outputs": [
    {
     "data": {
      "text/html": [
       "<div>\n",
       "<style scoped>\n",
       "    .dataframe tbody tr th:only-of-type {\n",
       "        vertical-align: middle;\n",
       "    }\n",
       "\n",
       "    .dataframe tbody tr th {\n",
       "        vertical-align: top;\n",
       "    }\n",
       "\n",
       "    .dataframe thead th {\n",
       "        text-align: right;\n",
       "    }\n",
       "</style>\n",
       "<table border=\"1\" class=\"dataframe\">\n",
       "  <thead>\n",
       "    <tr style=\"text-align: right;\">\n",
       "      <th></th>\n",
       "      <th>Messaging_Style</th>\n",
       "      <th>Time_of_Day</th>\n",
       "      <th>Click_Through_Rate</th>\n",
       "      <th>Conversions</th>\n",
       "    </tr>\n",
       "  </thead>\n",
       "  <tbody>\n",
       "    <tr>\n",
       "      <th>0</th>\n",
       "      <td>Casual</td>\n",
       "      <td>Morning</td>\n",
       "      <td>0.640465</td>\n",
       "      <td>500</td>\n",
       "    </tr>\n",
       "    <tr>\n",
       "      <th>1</th>\n",
       "      <td>Formal</td>\n",
       "      <td>Evening</td>\n",
       "      <td>0.698533</td>\n",
       "      <td>598</td>\n",
       "    </tr>\n",
       "    <tr>\n",
       "      <th>2</th>\n",
       "      <td>Casual</td>\n",
       "      <td>Morning</td>\n",
       "      <td>0.257834</td>\n",
       "      <td>234</td>\n",
       "    </tr>\n",
       "    <tr>\n",
       "      <th>3</th>\n",
       "      <td>Casual</td>\n",
       "      <td>Evening</td>\n",
       "      <td>0.922971</td>\n",
       "      <td>602</td>\n",
       "    </tr>\n",
       "    <tr>\n",
       "      <th>4</th>\n",
       "      <td>Casual</td>\n",
       "      <td>Morning</td>\n",
       "      <td>0.476893</td>\n",
       "      <td>314</td>\n",
       "    </tr>\n",
       "  </tbody>\n",
       "</table>\n",
       "</div>"
      ],
      "text/plain": [
       "  Messaging_Style Time_of_Day  Click_Through_Rate  Conversions\n",
       "0          Casual     Morning            0.640465          500\n",
       "1          Formal     Evening            0.698533          598\n",
       "2          Casual     Morning            0.257834          234\n",
       "3          Casual     Evening            0.922971          602\n",
       "4          Casual     Morning            0.476893          314"
      ]
     },
     "execution_count": 2,
     "metadata": {},
     "output_type": "execute_result"
    }
   ],
   "source": [
    "#load data\n",
    "df = pd.read_feather(\"marketing_data.feather\")\n",
    "promo_region = pd.read_csv('promotions_region.csv')\n",
    "df.head()"
   ]
  },
  {
   "cell_type": "code",
   "execution_count": 3,
   "id": "631005ea",
   "metadata": {},
   "outputs": [
    {
     "data": {
      "text/html": [
       "<div>\n",
       "<style scoped>\n",
       "    .dataframe tbody tr th:only-of-type {\n",
       "        vertical-align: middle;\n",
       "    }\n",
       "\n",
       "    .dataframe tbody tr th {\n",
       "        vertical-align: top;\n",
       "    }\n",
       "\n",
       "    .dataframe thead th {\n",
       "        text-align: right;\n",
       "    }\n",
       "</style>\n",
       "<table border=\"1\" class=\"dataframe\">\n",
       "  <thead>\n",
       "    <tr style=\"text-align: right;\">\n",
       "      <th></th>\n",
       "      <th>Region</th>\n",
       "      <th>Promotion_Type</th>\n",
       "    </tr>\n",
       "  </thead>\n",
       "  <tbody>\n",
       "    <tr>\n",
       "      <th>0</th>\n",
       "      <td>South</td>\n",
       "      <td>Loyalty Points</td>\n",
       "    </tr>\n",
       "    <tr>\n",
       "      <th>1</th>\n",
       "      <td>Central</td>\n",
       "      <td>Loyalty Points</td>\n",
       "    </tr>\n",
       "    <tr>\n",
       "      <th>2</th>\n",
       "      <td>West</td>\n",
       "      <td>Discount</td>\n",
       "    </tr>\n",
       "    <tr>\n",
       "      <th>3</th>\n",
       "      <td>East</td>\n",
       "      <td>Free Shipping</td>\n",
       "    </tr>\n",
       "    <tr>\n",
       "      <th>4</th>\n",
       "      <td>North</td>\n",
       "      <td>Buy One Get One</td>\n",
       "    </tr>\n",
       "  </tbody>\n",
       "</table>\n",
       "</div>"
      ],
      "text/plain": [
       "    Region   Promotion_Type\n",
       "0    South   Loyalty Points\n",
       "1  Central   Loyalty Points\n",
       "2     West         Discount\n",
       "3     East    Free Shipping\n",
       "4    North  Buy One Get One"
      ]
     },
     "execution_count": 3,
     "metadata": {},
     "output_type": "execute_result"
    }
   ],
   "source": [
    "#print first 5 rows of promotional type data\n",
    "promo_region.head()"
   ]
  },
  {
   "cell_type": "code",
   "execution_count": 4,
   "id": "bc323e74",
   "metadata": {},
   "outputs": [
    {
     "name": "stdout",
     "output_type": "stream",
     "text": [
      "(950, 4)\n",
      "(950, 2)\n"
     ]
    }
   ],
   "source": [
    "# print number of entries\n",
    "print(df.shape)\n",
    "print(promo_region.shape)"
   ]
  },
  {
   "cell_type": "code",
   "execution_count": 5,
   "id": "ae964ece",
   "metadata": {},
   "outputs": [
    {
     "name": "stdout",
     "output_type": "stream",
     "text": [
      "<class 'pandas.core.frame.DataFrame'>\n",
      "RangeIndex: 950 entries, 0 to 949\n",
      "Data columns (total 4 columns):\n",
      " #   Column              Non-Null Count  Dtype  \n",
      "---  ------              --------------  -----  \n",
      " 0   Messaging_Style     950 non-null    object \n",
      " 1   Time_of_Day         950 non-null    object \n",
      " 2   Click_Through_Rate  950 non-null    float64\n",
      " 3   Conversions         950 non-null    int64  \n",
      "dtypes: float64(1), int64(1), object(2)\n",
      "memory usage: 29.8+ KB\n",
      "<class 'pandas.core.frame.DataFrame'>\n",
      "RangeIndex: 950 entries, 0 to 949\n",
      "Data columns (total 2 columns):\n",
      " #   Column          Non-Null Count  Dtype \n",
      "---  ------          --------------  ----- \n",
      " 0   Region          950 non-null    object\n",
      " 1   Promotion_Type  950 non-null    object\n",
      "dtypes: object(2)\n",
      "memory usage: 15.0+ KB\n"
     ]
    }
   ],
   "source": [
    "# get additional information\n",
    "df.info()\n",
    "promo_region.info()"
   ]
  },
  {
   "cell_type": "code",
   "execution_count": 6,
   "id": "ccf08d2d",
   "metadata": {},
   "outputs": [
    {
     "name": "stdout",
     "output_type": "stream",
     "text": [
      "Messaging_Style       0\n",
      "Time_of_Day           0\n",
      "Click_Through_Rate    0\n",
      "Conversions           0\n",
      "dtype: int64\n"
     ]
    },
    {
     "data": {
      "text/plain": [
       "Region            0\n",
       "Promotion_Type    0\n",
       "dtype: int64"
      ]
     },
     "execution_count": 6,
     "metadata": {},
     "output_type": "execute_result"
    }
   ],
   "source": [
    "#checking for nulls\n",
    "print(df.isnull().sum())\n",
    "promo_region.isnull().sum()"
   ]
  },
  {
   "cell_type": "code",
   "execution_count": 7,
   "id": "9e6a1f69",
   "metadata": {},
   "outputs": [
    {
     "data": {
      "text/plain": [
       "0"
      ]
     },
     "execution_count": 7,
     "metadata": {},
     "output_type": "execute_result"
    }
   ],
   "source": [
    "#checking for duplicates\n",
    "df.duplicated().sum()"
   ]
  },
  {
   "cell_type": "code",
   "execution_count": 8,
   "id": "2d207733",
   "metadata": {},
   "outputs": [],
   "source": [
    "#changing dtypes\n",
    "df['Messaging_Style'] = df['Messaging_Style'].astype('category')\n",
    "df['Time_of_Day'] = df['Time_of_Day'].astype('category')\n",
    "promo_region['Region'] = promo_region['Region'].astype('category')\n",
    "promo_region['Promotion_Type'] = promo_region['Promotion_Type'].astype('category')"
   ]
  },
  {
   "cell_type": "code",
   "execution_count": 9,
   "id": "6765a253",
   "metadata": {},
   "outputs": [
    {
     "name": "stdout",
     "output_type": "stream",
     "text": [
      "<class 'pandas.core.frame.DataFrame'>\n",
      "RangeIndex: 950 entries, 0 to 949\n",
      "Data columns (total 4 columns):\n",
      " #   Column              Non-Null Count  Dtype   \n",
      "---  ------              --------------  -----   \n",
      " 0   Messaging_Style     950 non-null    category\n",
      " 1   Time_of_Day         950 non-null    category\n",
      " 2   Click_Through_Rate  950 non-null    float64 \n",
      " 3   Conversions         950 non-null    int64   \n",
      "dtypes: category(2), float64(1), int64(1)\n",
      "memory usage: 17.1 KB\n",
      "<class 'pandas.core.frame.DataFrame'>\n",
      "RangeIndex: 950 entries, 0 to 949\n",
      "Data columns (total 2 columns):\n",
      " #   Column          Non-Null Count  Dtype   \n",
      "---  ------          --------------  -----   \n",
      " 0   Region          950 non-null    category\n",
      " 1   Promotion_Type  950 non-null    category\n",
      "dtypes: category(2)\n",
      "memory usage: 2.4 KB\n"
     ]
    }
   ],
   "source": [
    "#preview info to see changes\n",
    "df.info()\n",
    "promo_region.info()"
   ]
  },
  {
   "cell_type": "code",
   "execution_count": 10,
   "id": "226e2516",
   "metadata": {},
   "outputs": [
    {
     "name": "stdout",
     "output_type": "stream",
     "text": [
      "Time_of_Day         Evening     Morning\n",
      "Messaging_Style                        \n",
      "Casual           402.329004  401.133891\n",
      "Formal           432.913043  411.096000\n"
     ]
    }
   ],
   "source": [
    "#summary\n",
    "marketing_pivot = df.pivot_table(\n",
    "  values='Conversions', \n",
    "  index='Messaging_Style', \n",
    "  columns='Time_of_Day', \n",
    "  aggfunc='mean')\n",
    "\n",
    "# View the pivoted results\n",
    "print(marketing_pivot)"
   ]
  },
  {
   "cell_type": "code",
   "execution_count": 11,
   "id": "b09e8e4d",
   "metadata": {},
   "outputs": [
    {
     "data": {
      "image/png": "[encoded data removed]",
      "text/plain": [
       "<Figure size 640x480 with 2 Axes>"
      ]
     },
     "metadata": {},
     "output_type": "display_data"
    }
   ],
   "source": [
    "# Visualizing the interactions\n",
    "sns.heatmap(marketing_pivot, \n",
    "         annot=True, \n",
    "         cmap='coolwarm',\n",
    "         fmt='g')\n",
    "\n",
    "plt.show()"
   ]
  },
  {
   "cell_type": "markdown",
   "id": "d8e5fccf",
   "metadata": {},
   "source": [
    "- Based on this, we can easily identify which combinations perform best and which ones need reevaluation.\n",
    "- A combination of formal messaging style and evening won't work for the business hence needs to be reevaluated."
   ]
  },
  {
   "cell_type": "code",
   "execution_count": 13,
   "id": "026b0142",
   "metadata": {},
   "outputs": [],
   "source": [
    "#checking the association between region and promotional type\n",
    "from scipy.stats import chi2_contingency\n",
    "contingency_table = pd.crosstab(promo_region['Region'], promo_region['Promotion_Type'])\n",
    "chi2_stat, p_val, dof, expected = chi2_contingency(contingency_table)"
   ]
  },
  {
   "cell_type": "code",
   "execution_count": 17,
   "id": "ff4bf5d5",
   "metadata": {},
   "outputs": [
    {
     "name": "stdout",
     "output_type": "stream",
     "text": [
      "Chi2_statistic: 18.048085668113195, P-value: 0.32108869291848385, Degrees of freedom: 16\n"
     ]
    }
   ],
   "source": [
    "#setting alpha at 0.20\n",
    "alpha = 0.20\n",
    "print(f\"Chi2_statistic: {chi2_stat}, P-value: {p_val}, Degrees of freedom: {dof}\")"
   ]
  },
  {
   "cell_type": "code",
   "execution_count": 18,
   "id": "2cc48503",
   "metadata": {},
   "outputs": [
    {
     "name": "stdout",
     "output_type": "stream",
     "text": [
      "There is an association between the region and promotional types\n"
     ]
    }
   ],
   "source": [
    "if p_val < alpha:\n",
    "    print('There is no association between the region and promotional types')\n",
    "else:\n",
    "    print('There is an association between the region and promotional types')"
   ]
  }
 ],
 "metadata": {
  "kernelspec": {
   "display_name": "Python 3 (ipykernel)",
   "language": "python",
   "name": "python3"
  },
  "language_info": {
   "codemirror_mode": {
    "name": "ipython",
    "version": 3
   },
   "file_extension": ".py",
   "mimetype": "text/x-python",
   "name": "python",
   "nbconvert_exporter": "python",
   "pygments_lexer": "ipython3",
   "version": "3.10.9"
  }
 },
 "nbformat": 4,
 "nbformat_minor": 5
}
